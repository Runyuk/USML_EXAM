{
 "cells": [
  {
   "cell_type": "code",
   "execution_count": null,
   "id": "9d359f16",
   "metadata": {},
   "outputs": [],
   "source": [
    "import numpy as np\n",
    "\n",
    "def generate_condind_dataset(n=10000, d=15, true_label_prob=0.5, seed=42):\n",
    "    np.random.seed(seed)\n",
    "    \n",
    "    # Menghasilkan true label (0 atau 1)\n",
    "    Y_true = np.random.binomial(1, true_label_prob, size=n)\n",
    "\n",
    "    # Sensitivitas dan spesifisitas untuk classifier yang berguna\n",
    "    good_sens = 0.9  # P(pred=1 | Y=1)\n",
    "    good_spec = 0.9  # P(pred=0 | Y=0)\n",
    "\n",
    "    # Menghasilkan prediksi dari 5 classifier yang baik\n",
    "    X_good = np.zeros((n, 5))\n",
    "    for i in range(5):\n",
    "        X_good[Y_true == 1, i] = np.random.binomial(1, good_sens, size=(Y_true == 1).sum())\n",
    "        X_good[Y_true == 0, i] = np.random.binomial(1, 1 - good_spec, size=(Y_true == 0).sum())\n",
    "\n",
    "    # Menghasilkan prediksi dari 10 classifier acak (akurasi ~ 50%)\n",
    "    X_rand = np.random.binomial(1, 0.5, size=(n, 10))\n",
    "\n",
    "    # Gabungkan semua classifier\n",
    "    X_total = np.hstack([X_good, X_rand])\n",
    "    return X_total, Y_true\n"
   ]
  },
  {
   "cell_type": "code",
   "execution_count": null,
   "id": "9c4ff9c8",
   "metadata": {},
   "outputs": [],
   "source": [
    "from sklearn.neural_network import BernoulliRBM\n",
    "from sklearn.metrics import balanced_accuracy_score\n",
    "from sklearn.linear_model import LogisticRegression\n",
    "\n",
    "# Men generate data\n",
    "X, y_true = generate_condind_dataset()\n",
    "\n",
    "# Melatih RBM dengan 1 hidden unit\n",
    "rbm = BernoulliRBM(n_components=1, learning_rate=0.05, batch_size=10, n_iter=20, random_state=42)\n",
    "rbm.fit(X)\n",
    "\n",
    "# Mendapatkan aktivasi tersembunyi (probabilitas H=1 diberikan X)\n",
    "H = rbm.transform(X)  # bentuk (n_samples, 1)\n",
    "\n",
    "# Menggunakan regresi logistik untuk mempelajari pemetaan H -> Y (meniru EM)\n",
    "clf = LogisticRegression()\n",
    "clf.fit(H, y_true)\n",
    "y_pred = clf.predict(H)\n",
    "\n",
    "# Evaluasi\n",
    "score = balanced_accuracy_score(y_true, y_pred)\n",
    "print(f\"Balanced Accuracy: {score:.4f}\")\n"
   ]
  },
  {
   "cell_type": "code",
   "execution_count": null,
   "id": "e8d746d4",
   "metadata": {},
   "outputs": [],
   "source": [
    "import matplotlib.pyplot as plt\n",
    "\n",
    "plt.hist(H, bins=50)\n",
    "plt.title(\"RBM Hidden Unit Activation (Prob H=1)\")\n",
    "plt.xlabel(\"Activation\")\n",
    "plt.ylabel(\"Count\")\n",
    "plt.grid(True)\n",
    "plt.show()\n"
   ]
  },
  {
   "cell_type": "markdown",
   "id": "e3d173a0",
   "metadata": {},
   "source": [
    "menggunakan dataset berbeda"
   ]
  },
  {
   "cell_type": "code",
   "execution_count": null,
   "id": "bf209aad",
   "metadata": {},
   "outputs": [],
   "source": [
    "from sklearn.datasets import load_breast_cancer\n",
    "from sklearn.model_selection import train_test_split\n",
    "from sklearn.preprocessing import Binarizer, StandardScaler\n",
    "from sklearn.ensemble import RandomForestClassifier\n",
    "from sklearn.svm import SVC\n",
    "from sklearn.neighbors import KNeighborsClassifier\n",
    "from sklearn.linear_model import LogisticRegression\n",
    "from sklearn.naive_bayes import GaussianNB\n",
    "import numpy as np\n",
    "\n",
    "# Load data\n",
    "data = load_breast_cancer()\n",
    "# Skala fitur\n",
    "scaler = StandardScaler()\n",
    "X_scaled = scaler.fit_transform(data.data)\n",
    "X_train, X_test, y_train, y_test = train_test_split(\n",
    "    X_scaled, data.target, test_size=0.3, random_state=42)\n",
    "\n",
    "# Daftar model (anggap sebagai \"annotator\")\n",
    "models = [\n",
    "    LogisticRegression(max_iter=500),\n",
    "    RandomForestClassifier(),\n",
    "    KNeighborsClassifier(),\n",
    "    SVC(probability=True),\n",
    "    GaussianNB()\n",
    "]\n",
    "\n",
    "\n",
    "# Buat output prediksi dari masing-masing model (binarized)\n",
    "preds = []\n",
    "for model in models:\n",
    "    model.fit(X_train, y_train)\n",
    "    probs = model.predict_proba(X_test)[:, 1]\n",
    "    binarized = Binarizer(threshold=0.5).fit_transform(probs.reshape(-1, 1)).flatten()\n",
    "    preds.append(binarized)\n",
    "\n",
    "# Combine jadi data matrix (annotator output)\n",
    "X_annotator = np.vstack(preds).T"
   ]
  },
  {
   "cell_type": "code",
   "execution_count": null,
   "id": "71db0853",
   "metadata": {},
   "outputs": [],
   "source": [
    "# Ini mirip kayak replikasi tadi\n",
    "rbm = BernoulliRBM(n_components=3, learning_rate=0.05, batch_size=10, n_iter=30, random_state=42)\n",
    "\n",
    "rbm.fit(X_annotator)\n",
    "\n",
    "# Hidden representation\n",
    "H = rbm.transform(X_annotator)\n",
    "\n",
    "# Belajar label (buat evaluasi)\n",
    "clf = LogisticRegression()\n",
    "clf.fit(H, y_test)\n",
    "y_pred = clf.predict(H)\n",
    "\n",
    "# Balanced Accuracy\n",
    "score = balanced_accuracy_score(y_test, y_pred)\n",
    "print(f\"Balanced Accuracy (Real Dataset): {score:.4f}\")\n"
   ]
  },
  {
   "cell_type": "code",
   "execution_count": null,
   "id": "95a5c529",
   "metadata": {},
   "outputs": [],
   "source": [
    "for i, pred in enumerate(preds):\n",
    "    acc = balanced_accuracy_score(y_test, pred)\n",
    "    print(f\"Model {i+1} Akurasi Seimbang: {acc:.3f}\")\n"
   ]
  },
  {
   "cell_type": "code",
   "execution_count": null,
   "id": "a0bc16f6",
   "metadata": {},
   "outputs": [],
   "source": [
    "import seaborn as sns\n",
    "import matplotlib.pyplot as plt\n",
    "\n",
    "# Ambil bobot dari RBM\n",
    "weights = rbm.components_[0]  # Karena cuma 1 hidden unit\n",
    "\n",
    "plt.figure(figsize=(10, 1))\n",
    "sns.heatmap(weights.reshape(1, -1), cmap=\"viridis\", cbar=True, annot=True)\n",
    "plt.xlabel(\"Visible Units\")\n",
    "plt.title(\"RBM Weight Vector (1 hidden unit)\")\n",
    "plt.show()\n"
   ]
  },
  {
   "cell_type": "code",
   "execution_count": null,
   "id": "5bf193a9",
   "metadata": {},
   "outputs": [],
   "source": [
    "def plot_corr_matrix(data, title=\"Correlation Matrix\"):\n",
    "    corr = np.corrcoef(data.T)\n",
    "    plt.figure(figsize=(6, 5))\n",
    "    sns.heatmap(corr, cmap=\"coolwarm\", center=0)\n",
    "    plt.title(title)\n",
    "    plt.show()\n",
    "\n",
    "# Untuk input\n",
    "plot_corr_matrix(X_annotator, \"Input Layer Correlation Matrix\")\n",
    "\n",
    "# Untuk hidden layer (hasil RBM)\n",
    "plot_corr_matrix(H, \"Hidden Layer Correlation Matrix\")\n"
   ]
  }
 ],
 "metadata": {
  "kernelspec": {
   "display_name": "Python 3",
   "language": "python",
   "name": "python3"
  },
  "language_info": {
   "codemirror_mode": {
    "name": "ipython",
    "version": 3
   },
   "file_extension": ".py",
   "mimetype": "text/x-python",
   "name": "python",
   "nbconvert_exporter": "python",
   "pygments_lexer": "ipython3",
   "version": "3.13.2"
  }
 },
 "nbformat": 4,
 "nbformat_minor": 5
}
